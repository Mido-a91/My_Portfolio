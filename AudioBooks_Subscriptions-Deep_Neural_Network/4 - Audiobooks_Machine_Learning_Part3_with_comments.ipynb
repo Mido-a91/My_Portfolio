{
 "cells": [
  {
   "cell_type": "markdown",
   "metadata": {},
   "source": [
    "# 4- Audiobooks business case - Data Modelling 2\n",
    "### Early Stopping and Validation Data added"
   ]
  },
  {
   "cell_type": "markdown",
   "metadata": {},
   "source": [
    "## Problem\n",
    "\n",
    "You are given data from an Audiobook app. Logically, it relates only to the audio versions of books. Each customer in the database has made a purchase at least once, that's why he/she is in the database. We want to create a machine learning algorithm based on our available data that can predict if a customer will buy again from the Audiobook company.\n",
    "\n",
    "The main idea is that if a customer has a low probability of coming back, there is no reason to spend any money on advertizing to him/her. If we can focus our efforts ONLY on customers that are likely to convert again, we can make great savings. Moreover, this model can identify the most important metrics for a customer to come back again. Identifying new customers creates value and growth opportunities.\n",
    "\n",
    "You have a .csv summarizing the data. There are several variables: Customer ID, Book length in mins_avg (average of all purchases), Book length in minutes_sum (sum of all purchases), Price Paid_avg (average of all purchases), Price paid_sum (sum of all purchases), Review (a Boolean variable), Review (out of 10), Total minutes listened, Completion (from 0 to 1), Support requests (number), and Last visited minus purchase date (in days).\n",
    "\n",
    "So these are the inputs (excluding customer ID, as it is completely arbitrary. It's more like a name, than a number).\n",
    "\n",
    "The targets are a Boolean variable (so 0, or 1). We are taking a period of 2 years in our inputs, and the next 6 months as targets. So, in fact, we are predicting if: based on the last 2 years of activity and engagement, a customer will convert in the next 6 months. 6 months sounds like a reasonable time. If they don't convert after 6 months, chances are they've gone to a competitor or didn't like the Audiobook way of digesting information. \n",
    "\n",
    "The task is simple: create a machine learning algorithm, which is able to predict if a customer will buy again. \n",
    "\n",
    "This is a classification problem with two classes: won't buy and will buy, represented by 0s and 1s. \n"
   ]
  },
  {
   "cell_type": "markdown",
   "metadata": {},
   "source": [
    "## Create the machine learning algorithm\n",
    "\n"
   ]
  },
  {
   "cell_type": "markdown",
   "metadata": {},
   "source": [
    "### Import the relevant libraries"
   ]
  },
  {
   "cell_type": "code",
   "execution_count": 1,
   "metadata": {},
   "outputs": [],
   "source": [
    "# we must import the libraries once again since we haven't imported them in this file\n",
    "import numpy as np\n",
    "import tensorflow as tf"
   ]
  },
  {
   "cell_type": "markdown",
   "metadata": {},
   "source": [
    "### Data"
   ]
  },
  {
   "cell_type": "code",
   "execution_count": 2,
   "metadata": {},
   "outputs": [],
   "source": [
    "# let's create a temporary variable npz, where we will store each of the three Audiobooks datasets\n",
    "npz = np.load('Audiobooks_data_train.npz')\n",
    "\n",
    "# we extract the inputs using the keyword under which we saved them\n",
    "# to ensure that they are all floats, let's also take care of that\n",
    "train_inputs = npz['inputs'].astype(np.float)\n",
    "# targets must be int because of sparse_categorical_crossentropy (we want to be able to smoothly one-hot encode them)\n",
    "train_targets = npz['targets'].astype(np.int)\n",
    "\n",
    "# we load the validation data in the temporary variable\n",
    "npz = np.load('Audiobooks_data_validation.npz')\n",
    "# we can load the inputs and the targets in the same line\n",
    "validation_inputs, validation_targets = npz['inputs'].astype(np.float), npz['targets'].astype(np.int)\n",
    "\n",
    "# we load the test data in the temporary variable\n",
    "npz = np.load('Audiobooks_data_test.npz')\n",
    "# we create 2 variables that will contain the test inputs and the test targets\n",
    "test_inputs, test_targets = npz['inputs'].astype(np.float), npz['targets'].astype(np.int)"
   ]
  },
  {
   "cell_type": "markdown",
   "metadata": {},
   "source": [
    "# Model\n",
    "Outline, optimizers, loss, early stopping and training"
   ]
  },
  {
   "cell_type": "code",
   "execution_count": 3,
   "metadata": {},
   "outputs": [],
   "source": [
    "# Set the input and output sizes\n",
    "input_size = 10\n",
    "output_size = 2\n",
    "# Use same hidden layer size for both hidden layers. Not a necessity.\n",
    "hidden_layer_size = 50\n",
    "    \n",
    "# define how the model will look like\n",
    "\n",
    "model = tf.keras.Sequential([\n",
    "    # tf.keras.layers.Dense is basically implementing: output = activation(dot(input, weight) + bias)\n",
    "    # it takes several arguments, but the most important ones for us are the hidden_layer_size and the activation function\n",
    "    # Unlike the Mnist we dont need the first layer (Flatten the matrix to vector) - We already have preprocessed inputs\n",
    "    \n",
    "    tf.keras.layers.Dense(hidden_layer_size, activation='relu'), # 1st hidden layer\n",
    "    tf.keras.layers.Dense(hidden_layer_size, activation='relu'), # 2nd hidden layer\n",
    "    # the final layer is no different, we just make sure to activate it with softmax - the output is a classifier\n",
    "    tf.keras.layers.Dense(output_size, activation='softmax') # output layer\n",
    "])\n",
    "\n",
    "\n",
    "  "
   ]
  },
  {
   "cell_type": "markdown",
   "metadata": {},
   "source": [
    "### Choose the optimizer and the loss function"
   ]
  },
  {
   "cell_type": "code",
   "execution_count": 4,
   "metadata": {},
   "outputs": [],
   "source": [
    "# we define the optimizer we'd like to use, \n",
    "# the loss function, chosen as that so we have our targets one hot encoded when compared to outputs\n",
    "# and the metrics we are interested in obtaining at each iteration\n",
    "model.compile(optimizer='adam', loss='sparse_categorical_crossentropy', metrics=['accuracy'])\n"
   ]
  },
  {
   "cell_type": "markdown",
   "metadata": {},
   "source": [
    "### Training"
   ]
  },
  {
   "cell_type": "code",
   "execution_count": 5,
   "metadata": {},
   "outputs": [
    {
     "name": "stdout",
     "output_type": "stream",
     "text": [
      "Train on 3579 samples, validate on 447 samples\n",
      "Epoch 1/100\n",
      "3579/3579 - 0s - loss: 0.5746 - accuracy: 0.7580 - val_loss: 0.4416 - val_accuracy: 0.8725\n",
      "Epoch 2/100\n",
      "3579/3579 - 0s - loss: 0.3760 - accuracy: 0.8785 - val_loss: 0.3400 - val_accuracy: 0.8792\n",
      "Epoch 3/100\n",
      "3579/3579 - 0s - loss: 0.3206 - accuracy: 0.8818 - val_loss: 0.3144 - val_accuracy: 0.8814\n",
      "Epoch 4/100\n",
      "3579/3579 - 0s - loss: 0.3013 - accuracy: 0.8880 - val_loss: 0.2990 - val_accuracy: 0.8881\n",
      "Epoch 5/100\n",
      "3579/3579 - 0s - loss: 0.2893 - accuracy: 0.8913 - val_loss: 0.2871 - val_accuracy: 0.8949\n",
      "Epoch 6/100\n",
      "3579/3579 - 0s - loss: 0.2797 - accuracy: 0.8933 - val_loss: 0.2788 - val_accuracy: 0.8971\n",
      "Epoch 7/100\n",
      "3579/3579 - 0s - loss: 0.2733 - accuracy: 0.8952 - val_loss: 0.2686 - val_accuracy: 0.8971\n",
      "Epoch 8/100\n",
      "3579/3579 - 0s - loss: 0.2667 - accuracy: 0.8983 - val_loss: 0.2605 - val_accuracy: 0.8993\n",
      "Epoch 9/100\n",
      "3579/3579 - 0s - loss: 0.2640 - accuracy: 0.8991 - val_loss: 0.2546 - val_accuracy: 0.8993\n",
      "Epoch 10/100\n",
      "3579/3579 - 0s - loss: 0.2593 - accuracy: 0.9016 - val_loss: 0.2546 - val_accuracy: 0.9016\n",
      "Epoch 11/100\n",
      "3579/3579 - 0s - loss: 0.2559 - accuracy: 0.9036 - val_loss: 0.2498 - val_accuracy: 0.9060\n",
      "Epoch 12/100\n",
      "3579/3579 - 0s - loss: 0.2528 - accuracy: 0.9047 - val_loss: 0.2461 - val_accuracy: 0.9083\n",
      "Epoch 13/100\n",
      "3579/3579 - 0s - loss: 0.2502 - accuracy: 0.9061 - val_loss: 0.2419 - val_accuracy: 0.9150\n",
      "Epoch 14/100\n",
      "3579/3579 - 0s - loss: 0.2476 - accuracy: 0.9064 - val_loss: 0.2354 - val_accuracy: 0.9060\n",
      "Epoch 15/100\n",
      "3579/3579 - 0s - loss: 0.2458 - accuracy: 0.9084 - val_loss: 0.2361 - val_accuracy: 0.9083\n",
      "Epoch 16/100\n",
      "3579/3579 - 0s - loss: 0.2440 - accuracy: 0.9095 - val_loss: 0.2342 - val_accuracy: 0.9060\n",
      "Epoch 17/100\n",
      "3579/3579 - 0s - loss: 0.2408 - accuracy: 0.9098 - val_loss: 0.2334 - val_accuracy: 0.9105\n",
      "Epoch 18/100\n",
      "3579/3579 - 0s - loss: 0.2414 - accuracy: 0.9072 - val_loss: 0.2311 - val_accuracy: 0.9150\n",
      "Epoch 19/100\n",
      "3579/3579 - 0s - loss: 0.2381 - accuracy: 0.9114 - val_loss: 0.2347 - val_accuracy: 0.9150\n",
      "Epoch 20/100\n",
      "3579/3579 - 0s - loss: 0.2393 - accuracy: 0.9095 - val_loss: 0.2257 - val_accuracy: 0.9105\n",
      "Epoch 21/100\n",
      "3579/3579 - 0s - loss: 0.2372 - accuracy: 0.9106 - val_loss: 0.2278 - val_accuracy: 0.9195\n",
      "Epoch 22/100\n",
      "3579/3579 - 0s - loss: 0.2346 - accuracy: 0.9125 - val_loss: 0.2293 - val_accuracy: 0.9217\n"
     ]
    },
    {
     "data": {
      "text/plain": [
       "<tensorflow.python.keras.callbacks.History at 0x22137815348>"
      ]
     },
     "execution_count": 5,
     "metadata": {},
     "output_type": "execute_result"
    }
   ],
   "source": [
    "# That's where we train the model we have built.\n",
    "\n",
    "# set the batch size\n",
    "batch_size = 100\n",
    "\n",
    "# set a maximum number of training epochs\n",
    "max_epochs = 100\n",
    "\n",
    "\n",
    "# We need a mechanism that we dont overfit - Notice the Validation accuracy oscillating\n",
    "# We didnt care about the early stopping mechanism or overfitting since the data was well prerprocessed - but we need that\n",
    "# Early stopping = Either updates too small means loss function minimized OR validation loss divergess from Training Loss \n",
    "# Whichever is first \n",
    "\n",
    "# set an early stopping mechanism\n",
    "# let's set patience=2, to be a bit tolerant against random validation loss increases\n",
    "# Now the model wont go through the complete epochs\n",
    "# compares validation loss to the validation loss one epoch ago, if it starts increasing stop training\n",
    "# there still might be small insignificant increase in the validation loss so we prefer to let 1 or 2 validation losses slide\n",
    "# this is set by using patience - ignores 1 or 2 validation losses increases \n",
    "# Patience let us decide how many consecutive valid_loss increases we can tolerate - by default its 0\n",
    "early_stopping = tf.keras.callbacks.EarlyStopping(patience=2)\n",
    "\n",
    "\n",
    "# fit the model\n",
    "# note that this time the train, validation and test data are not iterable\n",
    "# the batch size is directly done when we are fitting not using .batch\n",
    "# this time unlike the MNIST which was 1 iterable 2 Tuple object, this time we have inputs and targets seperately\n",
    "model.fit(train_inputs, # train inputs\n",
    "          train_targets, # train targets\n",
    "          batch_size=batch_size, # batch size\n",
    "          epochs=max_epochs, # epochs that we will train for (assuming early stopping doesn't kick in)\n",
    "          # callbacks are functions called by a task when a task is completed\n",
    "          # task here is to check if val_loss is increasing\n",
    "          #callbacks is an argument containing a list of Callbacks - only callback we need is early stopping\n",
    "          callbacks=[early_stopping], # early stopping\n",
    "          validation_data=(validation_inputs, validation_targets), # validation data\n",
    "          verbose = 2 # making sure we get enough information about the training process\n",
    "         )"
   ]
  }
 ],
 "metadata": {
  "kernelspec": {
   "display_name": "Python [conda env:py3.7+tensorflow2.0]",
   "language": "python",
   "name": "conda-env-py3.7_tensorflow2.0-py"
  },
  "language_info": {
   "codemirror_mode": {
    "name": "ipython",
    "version": 3
   },
   "file_extension": ".py",
   "mimetype": "text/x-python",
   "name": "python",
   "nbconvert_exporter": "python",
   "pygments_lexer": "ipython3",
   "version": "3.7.4"
  },
  "toc": {
   "base_numbering": 1,
   "nav_menu": {},
   "number_sections": true,
   "sideBar": true,
   "skip_h1_title": false,
   "title_cell": "Table of Contents",
   "title_sidebar": "Contents",
   "toc_cell": false,
   "toc_position": {},
   "toc_section_display": true,
   "toc_window_display": false
  }
 },
 "nbformat": 4,
 "nbformat_minor": 2
}
